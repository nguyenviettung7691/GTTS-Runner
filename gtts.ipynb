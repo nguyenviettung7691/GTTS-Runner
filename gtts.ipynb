{
  "nbformat": 4,
  "nbformat_minor": 0,
  "metadata": {
    "colab": {
      "provenance": [],
      "toc_visible": true,
      "authorship_tag": "ABX9TyPFK13wgDH98TcwUcZoRjhA",
      "include_colab_link": true
    },
    "kernelspec": {
      "name": "python3",
      "display_name": "Python 3"
    },
    "language_info": {
      "name": "python"
    }
  },
  "cells": [
    {
      "cell_type": "markdown",
      "metadata": {
        "id": "view-in-github",
        "colab_type": "text"
      },
      "source": [
        "<a href=\"https://colab.research.google.com/github/nguyenviettung7691/GTTS-Runner/blob/main/gtts.ipynb\" target=\"_parent\"><img src=\"https://colab.research.google.com/assets/colab-badge.svg\" alt=\"Open In Colab\"/></a>"
      ]
    },
    {
      "cell_type": "code",
      "execution_count": null,
      "metadata": {
        "id": "bBxsRiLK2xbe"
      },
      "outputs": [],
      "source": [
        "text = \"Takamimusubi is a deity in Japanese mythology and one of the three gods born from the primordial pair Izanagi and Izanami.\" #@param {type:\"string\"}\n",
        "lang = \"en\" #@param [\"en\", \"vi\", \"ja\"]\n",
        "slow = False #@param {type:\"boolean\"}\n",
        "!pip install gtts\n",
        "!pip install pydub\n",
        "\n",
        "from gtts import gTTS, gTTSError\n",
        "from pydub import AudioSegment\n",
        "from IPython.display import Audio\n",
        "\n",
        "# Function to convert text to speech and save as MP3 with a specific voice\n",
        "def text_to_speech(text, filename, lang='en', voice='default', slow=False):\n",
        "    tts = gTTS(text, lang=lang, tld='com', slow=False, lang_check=False)\n",
        "    tts.save(filename)\n",
        "\n",
        "    return filename\n",
        "\n",
        "# Example usage\n",
        "filename = \"output.mp3\"\n",
        "output_file = text_to_speech(text, filename, lang='en', voice='en-us', slow=False)\n",
        "\n",
        "# Play the generated audio\n",
        "Audio(output_file)"
      ]
    }
  ]
}